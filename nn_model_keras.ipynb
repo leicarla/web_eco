{
 "cells": [
  {
   "cell_type": "code",
   "execution_count": 8,
   "metadata": {},
   "outputs": [],
   "source": [
    "import numpy as np\n",
    "import pandas as pd\n",
    "import seaborn as sns\n",
    "from IPython.display import display\n",
    "import matplotlib.pyplot as plt\n",
    "import keras\n",
    "from keras.models import Sequential\n",
    "from keras.layers import Dense\n",
    "from keras.wrappers.scikit_learn import KerasRegressor\n",
    "from sklearn.preprocessing import LabelEncoder, OneHotEncoder\n",
    "from sklearn.preprocessing import StandardScaler\n"
   ]
  },
  {
   "cell_type": "code",
   "execution_count": 5,
   "metadata": {},
   "outputs": [
    {
     "data": {
      "text/html": [
       "<div>\n",
       "<style scoped>\n",
       "    .dataframe tbody tr th:only-of-type {\n",
       "        vertical-align: middle;\n",
       "    }\n",
       "\n",
       "    .dataframe tbody tr th {\n",
       "        vertical-align: top;\n",
       "    }\n",
       "\n",
       "    .dataframe thead th {\n",
       "        text-align: right;\n",
       "    }\n",
       "</style>\n",
       "<table border=\"1\" class=\"dataframe\">\n",
       "  <thead>\n",
       "    <tr style=\"text-align: right;\">\n",
       "      <th></th>\n",
       "      <th>slotprice</th>\n",
       "      <th>weekday</th>\n",
       "      <th>hour</th>\n",
       "      <th>region</th>\n",
       "      <th>city</th>\n",
       "      <th>useragent</th>\n",
       "      <th>slotwidth</th>\n",
       "      <th>slotheight</th>\n",
       "      <th>slotvisibility</th>\n",
       "      <th>slotformat</th>\n",
       "    </tr>\n",
       "  </thead>\n",
       "  <tbody>\n",
       "    <tr>\n",
       "      <th>0</th>\n",
       "      <td>5</td>\n",
       "      <td>5</td>\n",
       "      <td>22</td>\n",
       "      <td>2</td>\n",
       "      <td>2</td>\n",
       "      <td>windows_ie</td>\n",
       "      <td>200</td>\n",
       "      <td>200</td>\n",
       "      <td>2</td>\n",
       "      <td>0</td>\n",
       "    </tr>\n",
       "    <tr>\n",
       "      <th>1</th>\n",
       "      <td>0</td>\n",
       "      <td>1</td>\n",
       "      <td>20</td>\n",
       "      <td>238</td>\n",
       "      <td>239</td>\n",
       "      <td>windows_chrome</td>\n",
       "      <td>300</td>\n",
       "      <td>250</td>\n",
       "      <td>FourthView</td>\n",
       "      <td>Na</td>\n",
       "    </tr>\n",
       "    <tr>\n",
       "      <th>2</th>\n",
       "      <td>5</td>\n",
       "      <td>3</td>\n",
       "      <td>13</td>\n",
       "      <td>40</td>\n",
       "      <td>41</td>\n",
       "      <td>windows_ie</td>\n",
       "      <td>250</td>\n",
       "      <td>250</td>\n",
       "      <td>2</td>\n",
       "      <td>0</td>\n",
       "    </tr>\n",
       "    <tr>\n",
       "      <th>3</th>\n",
       "      <td>0</td>\n",
       "      <td>6</td>\n",
       "      <td>23</td>\n",
       "      <td>1</td>\n",
       "      <td>1</td>\n",
       "      <td>windows_ie</td>\n",
       "      <td>160</td>\n",
       "      <td>600</td>\n",
       "      <td>2</td>\n",
       "      <td>1</td>\n",
       "    </tr>\n",
       "    <tr>\n",
       "      <th>4</th>\n",
       "      <td>133</td>\n",
       "      <td>5</td>\n",
       "      <td>6</td>\n",
       "      <td>216</td>\n",
       "      <td>233</td>\n",
       "      <td>windows_ie</td>\n",
       "      <td>728</td>\n",
       "      <td>90</td>\n",
       "      <td>OtherView</td>\n",
       "      <td>Na</td>\n",
       "    </tr>\n",
       "  </tbody>\n",
       "</table>\n",
       "</div>"
      ],
      "text/plain": [
       "   slotprice  weekday  hour  region  city       useragent  slotwidth  \\\n",
       "0          5        5    22       2     2      windows_ie        200   \n",
       "1          0        1    20     238   239  windows_chrome        300   \n",
       "2          5        3    13      40    41      windows_ie        250   \n",
       "3          0        6    23       1     1      windows_ie        160   \n",
       "4        133        5     6     216   233      windows_ie        728   \n",
       "\n",
       "   slotheight slotvisibility slotformat  \n",
       "0         200              2          0  \n",
       "1         250     FourthView         Na  \n",
       "2         250              2          0  \n",
       "3         600              2          1  \n",
       "4          90      OtherView         Na  "
      ]
     },
     "metadata": {},
     "output_type": "display_data"
    },
    {
     "name": "stdout",
     "output_type": "stream",
     "text": [
      "count    2.430981e+06\n",
      "mean     7.815142e+01\n",
      "std      5.984636e+01\n",
      "min      0.000000e+00\n",
      "25%      3.300000e+01\n",
      "50%      6.800000e+01\n",
      "75%      9.900000e+01\n",
      "max      3.000000e+02\n",
      "Name: payprice, dtype: float64\n"
     ]
    }
   ],
   "source": [
    "row_train = pd.read_csv('train.csv', sep=',')\n",
    "row_val = pd.read_csv('validation.csv', sep=',')\n",
    "row_test = pd.read_csv('test.csv', sep=',')\n",
    "x_tr = pd.DataFrame(row_train, columns=['slotprice','weekday', 'hour', 'region', 'city', 'useragent', 'slotwidth','slotheight','slotvisibility', 'slotformat'])\n",
    "y_tr = row_train.payprice\n",
    "display(x_tr.head())\n",
    "print(y_tr.describe())\n"
   ]
  },
  {
   "cell_type": "code",
   "execution_count": 8,
   "metadata": {},
   "outputs": [
    {
     "data": {
      "text/html": [
       "<div>\n",
       "<style scoped>\n",
       "    .dataframe tbody tr th:only-of-type {\n",
       "        vertical-align: middle;\n",
       "    }\n",
       "\n",
       "    .dataframe tbody tr th {\n",
       "        vertical-align: top;\n",
       "    }\n",
       "\n",
       "    .dataframe thead th {\n",
       "        text-align: right;\n",
       "    }\n",
       "</style>\n",
       "<table border=\"1\" class=\"dataframe\">\n",
       "  <thead>\n",
       "    <tr style=\"text-align: right;\">\n",
       "      <th></th>\n",
       "      <th>slotprice</th>\n",
       "      <th>weekday</th>\n",
       "      <th>hour</th>\n",
       "      <th>region</th>\n",
       "      <th>city</th>\n",
       "      <th>useragent</th>\n",
       "      <th>slotwidth</th>\n",
       "      <th>slotheight</th>\n",
       "      <th>slotvisibility</th>\n",
       "      <th>slotformat</th>\n",
       "    </tr>\n",
       "  </thead>\n",
       "  <tbody>\n",
       "    <tr>\n",
       "      <th>0</th>\n",
       "      <td>5</td>\n",
       "      <td>5</td>\n",
       "      <td>22</td>\n",
       "      <td>2</td>\n",
       "      <td>2</td>\n",
       "      <td>31</td>\n",
       "      <td>200</td>\n",
       "      <td>200</td>\n",
       "      <td>2</td>\n",
       "      <td>0</td>\n",
       "    </tr>\n",
       "    <tr>\n",
       "      <th>1</th>\n",
       "      <td>0</td>\n",
       "      <td>1</td>\n",
       "      <td>20</td>\n",
       "      <td>238</td>\n",
       "      <td>239</td>\n",
       "      <td>29</td>\n",
       "      <td>300</td>\n",
       "      <td>250</td>\n",
       "      <td>6</td>\n",
       "      <td>3</td>\n",
       "    </tr>\n",
       "    <tr>\n",
       "      <th>2</th>\n",
       "      <td>5</td>\n",
       "      <td>3</td>\n",
       "      <td>13</td>\n",
       "      <td>40</td>\n",
       "      <td>41</td>\n",
       "      <td>31</td>\n",
       "      <td>250</td>\n",
       "      <td>250</td>\n",
       "      <td>2</td>\n",
       "      <td>0</td>\n",
       "    </tr>\n",
       "    <tr>\n",
       "      <th>3</th>\n",
       "      <td>0</td>\n",
       "      <td>6</td>\n",
       "      <td>23</td>\n",
       "      <td>1</td>\n",
       "      <td>1</td>\n",
       "      <td>31</td>\n",
       "      <td>160</td>\n",
       "      <td>600</td>\n",
       "      <td>2</td>\n",
       "      <td>1</td>\n",
       "    </tr>\n",
       "    <tr>\n",
       "      <th>4</th>\n",
       "      <td>133</td>\n",
       "      <td>5</td>\n",
       "      <td>6</td>\n",
       "      <td>216</td>\n",
       "      <td>233</td>\n",
       "      <td>31</td>\n",
       "      <td>728</td>\n",
       "      <td>90</td>\n",
       "      <td>8</td>\n",
       "      <td>3</td>\n",
       "    </tr>\n",
       "    <tr>\n",
       "      <th>5</th>\n",
       "      <td>0</td>\n",
       "      <td>4</td>\n",
       "      <td>17</td>\n",
       "      <td>276</td>\n",
       "      <td>277</td>\n",
       "      <td>31</td>\n",
       "      <td>336</td>\n",
       "      <td>280</td>\n",
       "      <td>2</td>\n",
       "      <td>1</td>\n",
       "    </tr>\n",
       "    <tr>\n",
       "      <th>6</th>\n",
       "      <td>20</td>\n",
       "      <td>3</td>\n",
       "      <td>12</td>\n",
       "      <td>80</td>\n",
       "      <td>89</td>\n",
       "      <td>31</td>\n",
       "      <td>1000</td>\n",
       "      <td>90</td>\n",
       "      <td>0</td>\n",
       "      <td>0</td>\n",
       "    </tr>\n",
       "    <tr>\n",
       "      <th>7</th>\n",
       "      <td>0</td>\n",
       "      <td>3</td>\n",
       "      <td>16</td>\n",
       "      <td>15</td>\n",
       "      <td>19</td>\n",
       "      <td>31</td>\n",
       "      <td>160</td>\n",
       "      <td>600</td>\n",
       "      <td>2</td>\n",
       "      <td>1</td>\n",
       "    </tr>\n",
       "    <tr>\n",
       "      <th>8</th>\n",
       "      <td>70</td>\n",
       "      <td>5</td>\n",
       "      <td>14</td>\n",
       "      <td>333</td>\n",
       "      <td>342</td>\n",
       "      <td>31</td>\n",
       "      <td>1000</td>\n",
       "      <td>90</td>\n",
       "      <td>0</td>\n",
       "      <td>0</td>\n",
       "    </tr>\n",
       "    <tr>\n",
       "      <th>9</th>\n",
       "      <td>70</td>\n",
       "      <td>5</td>\n",
       "      <td>0</td>\n",
       "      <td>2</td>\n",
       "      <td>2</td>\n",
       "      <td>29</td>\n",
       "      <td>1000</td>\n",
       "      <td>90</td>\n",
       "      <td>0</td>\n",
       "      <td>0</td>\n",
       "    </tr>\n",
       "  </tbody>\n",
       "</table>\n",
       "</div>"
      ],
      "text/plain": [
       "   slotprice  weekday  hour  region  city  useragent  slotwidth  slotheight  \\\n",
       "0          5        5    22       2     2         31        200         200   \n",
       "1          0        1    20     238   239         29        300         250   \n",
       "2          5        3    13      40    41         31        250         250   \n",
       "3          0        6    23       1     1         31        160         600   \n",
       "4        133        5     6     216   233         31        728          90   \n",
       "5          0        4    17     276   277         31        336         280   \n",
       "6         20        3    12      80    89         31       1000          90   \n",
       "7          0        3    16      15    19         31        160         600   \n",
       "8         70        5    14     333   342         31       1000          90   \n",
       "9         70        5     0       2     2         29       1000          90   \n",
       "\n",
       "   slotvisibility  slotformat  \n",
       "0               2           0  \n",
       "1               6           3  \n",
       "2               2           0  \n",
       "3               2           1  \n",
       "4               8           3  \n",
       "5               2           1  \n",
       "6               0           0  \n",
       "7               2           1  \n",
       "8               0           0  \n",
       "9               0           0  "
      ]
     },
     "metadata": {},
     "output_type": "display_data"
    }
   ],
   "source": [
    "from sklearn.preprocessing import LabelEncoder, OneHotEncoder\n",
    "labelencoder_X_1 = LabelEncoder()\n",
    "x_tr.useragent = labelencoder_X_1.fit_transform(x_tr.useragent)\n",
    "labelencoder_X_2 = LabelEncoder()\n",
    "x_tr.slotvisibility = labelencoder_X_2.fit_transform(x_tr.slotvisibility)\n",
    "labelencoder_X_3 = LabelEncoder()\n",
    "x_tr.slotformat = labelencoder_X_3.fit_transform(x_tr.slotformat)\n",
    "display(x_tr.head(10))"
   ]
  },
  {
   "cell_type": "code",
   "execution_count": null,
   "metadata": {},
   "outputs": [],
   "source": [
    "\"\"\"\"\"2\"def floorprice(num):\n",
    "    if num==0: y = 0\n",
    "    elif num>=1 and num <=10: y = 1\n",
    "    elif num>=11 and num <=50: y = 2\n",
    "    elif num>=51 and num <=100: y = 3\n",
    "    else: y = 4\n",
    "    return y\n",
    "n= x_tr.shape[0]\n",
    "for i in range(n):\n",
    "    x_tr.slotprice[i] = floorprice(x_tr.slotprice[i])\n",
    "display(x_tr)"
   ]
  },
  {
   "cell_type": "code",
   "execution_count": null,
   "metadata": {},
   "outputs": [],
   "source": [
    "x_tr = np.asarray(x_tr)\n",
    "onehotencoder = OneHotEncoder(categorical_features = [1,2,3,4,5,8,9])\n",
    "x_tr = onehotencoder.fit_transform(x_tr).toarray()\n",
    "display(x_tr)\n"
   ]
  },
  {
   "cell_type": "code",
   "execution_count": 9,
   "metadata": {},
   "outputs": [],
   "source": [
    "from sklearn.preprocessing import StandardScaler\n",
    "sc = StandardScaler()\n",
    "x_tr = sc.fit_transform(x_tr)\n",
    "x_tr = pd.DataFrame(x_tr)\n",
    "x_tr.to_csv('x_tr.csv')\n",
    "print(x_tr.shape)"
   ]
  },
  {
   "cell_type": "code",
   "execution_count": 111,
   "metadata": {},
   "outputs": [
    {
     "name": "stdout",
     "output_type": "stream",
     "text": [
      "(181093, 163)\n",
      "(303925, 163)\n",
      "(303375, 163)\n"
     ]
    }
   ],
   "source": [
    "#x_tr = pd.read_csv('x_tr.csv')\n",
    "#print(x_tr.shape)\n",
    "#features with Bonnie cleaning\n",
    "x_tr = pd.read_csv('new_x_train.csv')\n",
    "y = pd.read_csv('new_y_train.csv')\n",
    "y_tr = pd.DataFrame(y.click)\n",
    "x_val = pd.read_csv('new_x_val.csv')\n",
    "x_test = pd.read_csv('new_x_test.csv')\n",
    "print(x_tr.shape)\n",
    "print(x_val.shape)\n",
    "print(x_test.shape)"
   ]
  },
  {
   "cell_type": "code",
   "execution_count": 115,
   "metadata": {},
   "outputs": [
    {
     "data": {
      "text/plain": [
       "0         2225379\n",
       "1         1960461\n",
       "2          868665\n",
       "3          713995\n",
       "4          511358\n",
       "5          837025\n",
       "6         1396208\n",
       "7          332358\n",
       "8          283651\n",
       "9          287406\n",
       "10         966055\n",
       "11         753464\n",
       "12         682496\n",
       "13        1564797\n",
       "14        1823861\n",
       "15        1222489\n",
       "16        1195536\n",
       "17         209181\n",
       "18        1812142\n",
       "19         195018\n",
       "20         950326\n",
       "21         431400\n",
       "22        1613757\n",
       "23         779244\n",
       "24         346037\n",
       "25        1119146\n",
       "26        1676766\n",
       "27         183970\n",
       "28         542449\n",
       "29        1185873\n",
       "           ...   \n",
       "181063    2068568\n",
       "181064     707671\n",
       "181065    1972700\n",
       "181066     564955\n",
       "181067     122359\n",
       "181068    1989303\n",
       "181069     509616\n",
       "181070     124228\n",
       "181071    2365321\n",
       "181072    1945138\n",
       "181073     991459\n",
       "181074     606489\n",
       "181075    2238436\n",
       "181076     690835\n",
       "181077     226861\n",
       "181078      80722\n",
       "181079     416172\n",
       "181080    1397902\n",
       "181081    1941251\n",
       "181082    1170857\n",
       "181083     763320\n",
       "181084    2137998\n",
       "181085    1430427\n",
       "181086     425167\n",
       "181087    2149804\n",
       "181088    1591855\n",
       "181089     125595\n",
       "181090    1830061\n",
       "181091     659178\n",
       "181092     718459\n",
       "Name: Unnamed: 0, Length: 181093, dtype: int64"
      ]
     },
     "metadata": {},
     "output_type": "display_data"
    }
   ],
   "source": [
    "#display(x_tr.head())\n",
    "#display(x_tr.head())\n",
    "display(x_tr['Unnamed: 0'])\n",
    "#print(x_tr.index.values.tolist())"
   ]
  },
  {
   "cell_type": "code",
   "execution_count": 78,
   "metadata": {},
   "outputs": [
    {
     "name": "stderr",
     "output_type": "stream",
     "text": [
      "/opt/anaconda/envs/Python3/lib/python3.6/site-packages/ipykernel/__main__.py:3: UserWarning: Update your `Dense` call to the Keras 2 API: `Dense(activation=\"sigmoid\", input_dim=163, units=10, kernel_initializer=\"uniform\")`\n",
      "  app.launch_new_instance()\n",
      "/opt/anaconda/envs/Python3/lib/python3.6/site-packages/ipykernel/__main__.py:5: UserWarning: Update your `Dense` call to the Keras 2 API: `Dense(activation=\"relu\", units=10, kernel_initializer=\"uniform\")`\n",
      "/opt/anaconda/envs/Python3/lib/python3.6/site-packages/ipykernel/__main__.py:7: UserWarning: Update your `Dense` call to the Keras 2 API: `Dense(activation=\"relu\", units=1, kernel_initializer=\"uniform\")`\n",
      "/opt/anaconda/envs/Python3/lib/python3.6/site-packages/keras/models.py:942: UserWarning: The `nb_epoch` argument in `fit` has been renamed `epochs`.\n",
      "  warnings.warn('The `nb_epoch` argument in `fit` '\n"
     ]
    },
    {
     "name": "stdout",
     "output_type": "stream",
     "text": [
      "Epoch 1/2\n",
      "181093/181093 [==============================] - 825s 5ms/step - loss: 0.0099 - acc: 0.9901\n",
      "Epoch 2/2\n",
      "181093/181093 [==============================] - 826s 5ms/step - loss: 0.0099 - acc: 0.9901\n"
     ]
    },
    {
     "data": {
      "text/plain": [
       "<keras.callbacks.History at 0x7f7656331710>"
      ]
     },
     "execution_count": 78,
     "metadata": {},
     "output_type": "execute_result"
    }
   ],
   "source": [
    "classifier = Sequential()\n",
    "# Adding the input layer and the first hidden layer\n",
    "classifier.add(Dense(output_dim = 10, init = 'uniform', activation = 'sigmoid', input_dim = 163))\n",
    "# Adding the second hidden layer\n",
    "classifier.add(Dense(output_dim = 10, init = 'uniform', activation = 'relu'))\n",
    "# Adding the output layer\n",
    "classifier.add(Dense(output_dim = 1, init = 'uniform', activation = 'sigmoid'))\n",
    "classifier.compile(optimizer = 'rmsprop', loss = 'mse', metrics = ['accuracy'])\n",
    "classifier.fit(x_tr, y_tr, batch_size = 10, nb_epoch = 2)\n"
   ]
  },
  {
   "cell_type": "code",
   "execution_count": 81,
   "metadata": {},
   "outputs": [
    {
     "data": {
      "text/plain": [
       "array([[-0.],\n",
       "       [-0.],\n",
       "       [-0.],\n",
       "       ...,\n",
       "       [-0.],\n",
       "       [-0.],\n",
       "       [-0.]], dtype=float32)"
      ]
     },
     "metadata": {},
     "output_type": "display_data"
    }
   ],
   "source": [
    "y_pred_test = classifier.predict_proba(x_test)\n",
    "y_pred_tr = classifier.predict_proba(x_tr)\n",
    "y_pred_val = classifier.predict_proba(x_val)\n",
    "display(y_pred_tr)\n",
    "\n",
    "y_pred_val = pd.DataFrame(y_pred_val)\n",
    "y_pred_tr = pd.DataFrame(y_pred_tr)\n",
    "y_pred_test = pd.DataFrame(y_pred_test)\n",
    "y_pred_test.to_csv('predproba_test_nn1.csv')"
   ]
  },
  {
   "cell_type": "code",
   "execution_count": 82,
   "metadata": {},
   "outputs": [],
   "source": [
    "y_pred_val.to_csv('predproba_val_nn1.csv')"
   ]
  },
  {
   "cell_type": "code",
   "execution_count": 83,
   "metadata": {},
   "outputs": [
    {
     "name": "stdout",
     "output_type": "stream",
     "text": [
      "(181093, 1)\n"
     ]
    }
   ],
   "source": [
    "print(y_pred_tr.shape)"
   ]
  },
  {
   "cell_type": "code",
   "execution_count": 11,
   "metadata": {},
   "outputs": [
    {
     "name": "stdout",
     "output_type": "stream",
     "text": [
      "(2430981, 72)\n"
     ]
    }
   ],
   "source": [
    "#MODEL NO. 2: with binary variables\n",
    "x_tr2 = pd.DataFrame(row_train, columns=['slotprice','weekday', 'hour', 'region', 'useragent', 'slotwidth','slotheight','slotvisibility', 'slotformat'])\n",
    "y_tr2 = row_train.payprice\n",
    "\n",
    "labelencoder_X_1 = LabelEncoder()\n",
    "x_tr2.useragent = labelencoder_X_1.fit_transform(x_tr2.useragent)\n",
    "labelencoder_X_2 = LabelEncoder()\n",
    "x_tr2.slotvisibility = labelencoder_X_2.fit_transform(x_tr2.slotvisibility)\n",
    "labelencoder_X_3 = LabelEncoder()\n",
    "x_tr2.slotformat = labelencoder_X_3.fit_transform(x_tr2.slotformat)\n",
    "\n",
    "x_tr2 = np.asarray(x_tr2)\n",
    "\n",
    "onehotencoder = OneHotEncoder(categorical_features = [1,2,3])\n",
    "x_tr2 = onehotencoder.fit_transform(x_tr2).toarray()\n",
    "\n",
    "sc = StandardScaler()\n",
    "x_tr2 = sc.fit_transform(x_tr2)\n",
    "x_tr2 = pd.DataFrame(x_tr2)\n",
    "x_tr2.to_csv('x_tr2.csv')\n",
    "print(x_tr2.shape)"
   ]
  },
  {
   "cell_type": "code",
   "execution_count": 13,
   "metadata": {},
   "outputs": [
    {
     "name": "stderr",
     "output_type": "stream",
     "text": [
      "/opt/anaconda/envs/Python3/lib/python3.6/site-packages/ipykernel/__main__.py:3: UserWarning: Update your `Dense` call to the Keras 2 API: `Dense(activation=\"relu\", input_dim=72, units=30, kernel_initializer=\"uniform\")`\n",
      "  app.launch_new_instance()\n",
      "/opt/anaconda/envs/Python3/lib/python3.6/site-packages/ipykernel/__main__.py:5: UserWarning: Update your `Dense` call to the Keras 2 API: `Dense(activation=\"relu\", units=30, kernel_initializer=\"uniform\")`\n",
      "/opt/anaconda/envs/Python3/lib/python3.6/site-packages/ipykernel/__main__.py:7: UserWarning: Update your `Dense` call to the Keras 2 API: `Dense(activation=\"relu\", units=1, kernel_initializer=\"uniform\")`\n",
      "/opt/anaconda/envs/Python3/lib/python3.6/site-packages/keras/models.py:942: UserWarning: The `nb_epoch` argument in `fit` has been renamed `epochs`.\n",
      "  warnings.warn('The `nb_epoch` argument in `fit` '\n"
     ]
    },
    {
     "name": "stdout",
     "output_type": "stream",
     "text": [
      "Epoch 1/100\n",
      " 113990/2430981 [>.............................] - ETA: 3:29:26 - loss: 3394.2540 - acc: 0.0105- ETA: 3: - ETA: 3:2"
     ]
    },
    {
     "ename": "KeyboardInterrupt",
     "evalue": "",
     "output_type": "error",
     "traceback": [
      "\u001b[0;31m---------------------------------------------------------------------------\u001b[0m",
      "\u001b[0;31mKeyboardInterrupt\u001b[0m                         Traceback (most recent call last)",
      "\u001b[0;32m<ipython-input-13-eb048eaa813b>\u001b[0m in \u001b[0;36m<module>\u001b[0;34m()\u001b[0m\n\u001b[1;32m      7\u001b[0m \u001b[0mclassifier2\u001b[0m\u001b[0;34m.\u001b[0m\u001b[0madd\u001b[0m\u001b[0;34m(\u001b[0m\u001b[0mDense\u001b[0m\u001b[0;34m(\u001b[0m\u001b[0moutput_dim\u001b[0m \u001b[0;34m=\u001b[0m \u001b[0;36m1\u001b[0m\u001b[0;34m,\u001b[0m \u001b[0minit\u001b[0m \u001b[0;34m=\u001b[0m \u001b[0;34m'uniform'\u001b[0m\u001b[0;34m,\u001b[0m \u001b[0mactivation\u001b[0m \u001b[0;34m=\u001b[0m \u001b[0;34m'relu'\u001b[0m\u001b[0;34m)\u001b[0m\u001b[0;34m)\u001b[0m\u001b[0;34m\u001b[0m\u001b[0m\n\u001b[1;32m      8\u001b[0m \u001b[0mclassifier2\u001b[0m\u001b[0;34m.\u001b[0m\u001b[0mcompile\u001b[0m\u001b[0;34m(\u001b[0m\u001b[0moptimizer\u001b[0m \u001b[0;34m=\u001b[0m \u001b[0;34m'rmsprop'\u001b[0m\u001b[0;34m,\u001b[0m \u001b[0mloss\u001b[0m \u001b[0;34m=\u001b[0m \u001b[0;34m'mse'\u001b[0m\u001b[0;34m,\u001b[0m \u001b[0mmetrics\u001b[0m \u001b[0;34m=\u001b[0m \u001b[0;34m[\u001b[0m\u001b[0;34m'accuracy'\u001b[0m\u001b[0;34m]\u001b[0m\u001b[0;34m)\u001b[0m\u001b[0;34m\u001b[0m\u001b[0m\n\u001b[0;32m----> 9\u001b[0;31m \u001b[0mclassifier2\u001b[0m\u001b[0;34m.\u001b[0m\u001b[0mfit\u001b[0m\u001b[0;34m(\u001b[0m\u001b[0mx_tr2\u001b[0m\u001b[0;34m,\u001b[0m \u001b[0my_tr2\u001b[0m\u001b[0;34m,\u001b[0m \u001b[0mbatch_size\u001b[0m \u001b[0;34m=\u001b[0m \u001b[0;36m10\u001b[0m\u001b[0;34m,\u001b[0m \u001b[0mnb_epoch\u001b[0m \u001b[0;34m=\u001b[0m \u001b[0;36m100\u001b[0m\u001b[0;34m)\u001b[0m\u001b[0;34m\u001b[0m\u001b[0m\n\u001b[0m",
      "\u001b[0;32m/opt/anaconda/envs/Python3/lib/python3.6/site-packages/keras/models.py\u001b[0m in \u001b[0;36mfit\u001b[0;34m(self, x, y, batch_size, epochs, verbose, callbacks, validation_split, validation_data, shuffle, class_weight, sample_weight, initial_epoch, steps_per_epoch, validation_steps, **kwargs)\u001b[0m\n\u001b[1;32m    961\u001b[0m                               \u001b[0minitial_epoch\u001b[0m\u001b[0;34m=\u001b[0m\u001b[0minitial_epoch\u001b[0m\u001b[0;34m,\u001b[0m\u001b[0;34m\u001b[0m\u001b[0m\n\u001b[1;32m    962\u001b[0m                               \u001b[0msteps_per_epoch\u001b[0m\u001b[0;34m=\u001b[0m\u001b[0msteps_per_epoch\u001b[0m\u001b[0;34m,\u001b[0m\u001b[0;34m\u001b[0m\u001b[0m\n\u001b[0;32m--> 963\u001b[0;31m                               validation_steps=validation_steps)\n\u001b[0m\u001b[1;32m    964\u001b[0m \u001b[0;34m\u001b[0m\u001b[0m\n\u001b[1;32m    965\u001b[0m     def evaluate(self, x=None, y=None,\n",
      "\u001b[0;32m/opt/anaconda/envs/Python3/lib/python3.6/site-packages/keras/engine/training.py\u001b[0m in \u001b[0;36mfit\u001b[0;34m(self, x, y, batch_size, epochs, verbose, callbacks, validation_split, validation_data, shuffle, class_weight, sample_weight, initial_epoch, steps_per_epoch, validation_steps, **kwargs)\u001b[0m\n\u001b[1;32m   1703\u001b[0m                               \u001b[0minitial_epoch\u001b[0m\u001b[0;34m=\u001b[0m\u001b[0minitial_epoch\u001b[0m\u001b[0;34m,\u001b[0m\u001b[0;34m\u001b[0m\u001b[0m\n\u001b[1;32m   1704\u001b[0m                               \u001b[0msteps_per_epoch\u001b[0m\u001b[0;34m=\u001b[0m\u001b[0msteps_per_epoch\u001b[0m\u001b[0;34m,\u001b[0m\u001b[0;34m\u001b[0m\u001b[0m\n\u001b[0;32m-> 1705\u001b[0;31m                               validation_steps=validation_steps)\n\u001b[0m\u001b[1;32m   1706\u001b[0m \u001b[0;34m\u001b[0m\u001b[0m\n\u001b[1;32m   1707\u001b[0m     def evaluate(self, x=None, y=None,\n",
      "\u001b[0;32m/opt/anaconda/envs/Python3/lib/python3.6/site-packages/keras/engine/training.py\u001b[0m in \u001b[0;36m_fit_loop\u001b[0;34m(self, f, ins, out_labels, batch_size, epochs, verbose, callbacks, val_f, val_ins, shuffle, callback_metrics, initial_epoch, steps_per_epoch, validation_steps)\u001b[0m\n\u001b[1;32m   1233\u001b[0m                         \u001b[0mins_batch\u001b[0m\u001b[0;34m[\u001b[0m\u001b[0mi\u001b[0m\u001b[0;34m]\u001b[0m \u001b[0;34m=\u001b[0m \u001b[0mins_batch\u001b[0m\u001b[0;34m[\u001b[0m\u001b[0mi\u001b[0m\u001b[0;34m]\u001b[0m\u001b[0;34m.\u001b[0m\u001b[0mtoarray\u001b[0m\u001b[0;34m(\u001b[0m\u001b[0;34m)\u001b[0m\u001b[0;34m\u001b[0m\u001b[0m\n\u001b[1;32m   1234\u001b[0m \u001b[0;34m\u001b[0m\u001b[0m\n\u001b[0;32m-> 1235\u001b[0;31m                     \u001b[0mouts\u001b[0m \u001b[0;34m=\u001b[0m \u001b[0mf\u001b[0m\u001b[0;34m(\u001b[0m\u001b[0mins_batch\u001b[0m\u001b[0;34m)\u001b[0m\u001b[0;34m\u001b[0m\u001b[0m\n\u001b[0m\u001b[1;32m   1236\u001b[0m                     \u001b[0;32mif\u001b[0m \u001b[0;32mnot\u001b[0m \u001b[0misinstance\u001b[0m\u001b[0;34m(\u001b[0m\u001b[0mouts\u001b[0m\u001b[0;34m,\u001b[0m \u001b[0mlist\u001b[0m\u001b[0;34m)\u001b[0m\u001b[0;34m:\u001b[0m\u001b[0;34m\u001b[0m\u001b[0m\n\u001b[1;32m   1237\u001b[0m                         \u001b[0mouts\u001b[0m \u001b[0;34m=\u001b[0m \u001b[0;34m[\u001b[0m\u001b[0mouts\u001b[0m\u001b[0;34m]\u001b[0m\u001b[0;34m\u001b[0m\u001b[0m\n",
      "\u001b[0;32m/opt/anaconda/envs/Python3/lib/python3.6/site-packages/keras/backend/tensorflow_backend.py\u001b[0m in \u001b[0;36m__call__\u001b[0;34m(self, inputs)\u001b[0m\n\u001b[1;32m   2476\u001b[0m         \u001b[0msession\u001b[0m \u001b[0;34m=\u001b[0m \u001b[0mget_session\u001b[0m\u001b[0;34m(\u001b[0m\u001b[0;34m)\u001b[0m\u001b[0;34m\u001b[0m\u001b[0m\n\u001b[1;32m   2477\u001b[0m         updated = session.run(fetches=fetches, feed_dict=feed_dict,\n\u001b[0;32m-> 2478\u001b[0;31m                               **self.session_kwargs)\n\u001b[0m\u001b[1;32m   2479\u001b[0m         \u001b[0;32mreturn\u001b[0m \u001b[0mupdated\u001b[0m\u001b[0;34m[\u001b[0m\u001b[0;34m:\u001b[0m\u001b[0mlen\u001b[0m\u001b[0;34m(\u001b[0m\u001b[0mself\u001b[0m\u001b[0;34m.\u001b[0m\u001b[0moutputs\u001b[0m\u001b[0;34m)\u001b[0m\u001b[0;34m]\u001b[0m\u001b[0;34m\u001b[0m\u001b[0m\n\u001b[1;32m   2480\u001b[0m \u001b[0;34m\u001b[0m\u001b[0m\n",
      "\u001b[0;32m/opt/anaconda/envs/Python3/lib/python3.6/site-packages/tensorflow/python/client/session.py\u001b[0m in \u001b[0;36mrun\u001b[0;34m(self, fetches, feed_dict, options, run_metadata)\u001b[0m\n\u001b[1;32m    903\u001b[0m     \u001b[0;32mtry\u001b[0m\u001b[0;34m:\u001b[0m\u001b[0;34m\u001b[0m\u001b[0m\n\u001b[1;32m    904\u001b[0m       result = self._run(None, fetches, feed_dict, options_ptr,\n\u001b[0;32m--> 905\u001b[0;31m                          run_metadata_ptr)\n\u001b[0m\u001b[1;32m    906\u001b[0m       \u001b[0;32mif\u001b[0m \u001b[0mrun_metadata\u001b[0m\u001b[0;34m:\u001b[0m\u001b[0;34m\u001b[0m\u001b[0m\n\u001b[1;32m    907\u001b[0m         \u001b[0mproto_data\u001b[0m \u001b[0;34m=\u001b[0m \u001b[0mtf_session\u001b[0m\u001b[0;34m.\u001b[0m\u001b[0mTF_GetBuffer\u001b[0m\u001b[0;34m(\u001b[0m\u001b[0mrun_metadata_ptr\u001b[0m\u001b[0;34m)\u001b[0m\u001b[0;34m\u001b[0m\u001b[0m\n",
      "\u001b[0;32m/opt/anaconda/envs/Python3/lib/python3.6/site-packages/tensorflow/python/client/session.py\u001b[0m in \u001b[0;36m_run\u001b[0;34m(self, handle, fetches, feed_dict, options, run_metadata)\u001b[0m\n\u001b[1;32m   1135\u001b[0m     \u001b[0;32mif\u001b[0m \u001b[0mfinal_fetches\u001b[0m \u001b[0;32mor\u001b[0m \u001b[0mfinal_targets\u001b[0m \u001b[0;32mor\u001b[0m \u001b[0;34m(\u001b[0m\u001b[0mhandle\u001b[0m \u001b[0;32mand\u001b[0m \u001b[0mfeed_dict_tensor\u001b[0m\u001b[0;34m)\u001b[0m\u001b[0;34m:\u001b[0m\u001b[0;34m\u001b[0m\u001b[0m\n\u001b[1;32m   1136\u001b[0m       results = self._do_run(handle, final_targets, final_fetches,\n\u001b[0;32m-> 1137\u001b[0;31m                              feed_dict_tensor, options, run_metadata)\n\u001b[0m\u001b[1;32m   1138\u001b[0m     \u001b[0;32melse\u001b[0m\u001b[0;34m:\u001b[0m\u001b[0;34m\u001b[0m\u001b[0m\n\u001b[1;32m   1139\u001b[0m       \u001b[0mresults\u001b[0m \u001b[0;34m=\u001b[0m \u001b[0;34m[\u001b[0m\u001b[0;34m]\u001b[0m\u001b[0;34m\u001b[0m\u001b[0m\n",
      "\u001b[0;32m/opt/anaconda/envs/Python3/lib/python3.6/site-packages/tensorflow/python/client/session.py\u001b[0m in \u001b[0;36m_do_run\u001b[0;34m(self, handle, target_list, fetch_list, feed_dict, options, run_metadata)\u001b[0m\n\u001b[1;32m   1353\u001b[0m     \u001b[0;32mif\u001b[0m \u001b[0mhandle\u001b[0m \u001b[0;32mis\u001b[0m \u001b[0;32mNone\u001b[0m\u001b[0;34m:\u001b[0m\u001b[0;34m\u001b[0m\u001b[0m\n\u001b[1;32m   1354\u001b[0m       return self._do_call(_run_fn, self._session, feeds, fetches, targets,\n\u001b[0;32m-> 1355\u001b[0;31m                            options, run_metadata)\n\u001b[0m\u001b[1;32m   1356\u001b[0m     \u001b[0;32melse\u001b[0m\u001b[0;34m:\u001b[0m\u001b[0;34m\u001b[0m\u001b[0m\n\u001b[1;32m   1357\u001b[0m       \u001b[0;32mreturn\u001b[0m \u001b[0mself\u001b[0m\u001b[0;34m.\u001b[0m\u001b[0m_do_call\u001b[0m\u001b[0;34m(\u001b[0m\u001b[0m_prun_fn\u001b[0m\u001b[0;34m,\u001b[0m \u001b[0mself\u001b[0m\u001b[0;34m.\u001b[0m\u001b[0m_session\u001b[0m\u001b[0;34m,\u001b[0m \u001b[0mhandle\u001b[0m\u001b[0;34m,\u001b[0m \u001b[0mfeeds\u001b[0m\u001b[0;34m,\u001b[0m \u001b[0mfetches\u001b[0m\u001b[0;34m)\u001b[0m\u001b[0;34m\u001b[0m\u001b[0m\n",
      "\u001b[0;32m/opt/anaconda/envs/Python3/lib/python3.6/site-packages/tensorflow/python/client/session.py\u001b[0m in \u001b[0;36m_do_call\u001b[0;34m(self, fn, *args)\u001b[0m\n\u001b[1;32m   1359\u001b[0m   \u001b[0;32mdef\u001b[0m \u001b[0m_do_call\u001b[0m\u001b[0;34m(\u001b[0m\u001b[0mself\u001b[0m\u001b[0;34m,\u001b[0m \u001b[0mfn\u001b[0m\u001b[0;34m,\u001b[0m \u001b[0;34m*\u001b[0m\u001b[0margs\u001b[0m\u001b[0;34m)\u001b[0m\u001b[0;34m:\u001b[0m\u001b[0;34m\u001b[0m\u001b[0m\n\u001b[1;32m   1360\u001b[0m     \u001b[0;32mtry\u001b[0m\u001b[0;34m:\u001b[0m\u001b[0;34m\u001b[0m\u001b[0m\n\u001b[0;32m-> 1361\u001b[0;31m       \u001b[0;32mreturn\u001b[0m \u001b[0mfn\u001b[0m\u001b[0;34m(\u001b[0m\u001b[0;34m*\u001b[0m\u001b[0margs\u001b[0m\u001b[0;34m)\u001b[0m\u001b[0;34m\u001b[0m\u001b[0m\n\u001b[0m\u001b[1;32m   1362\u001b[0m     \u001b[0;32mexcept\u001b[0m \u001b[0merrors\u001b[0m\u001b[0;34m.\u001b[0m\u001b[0mOpError\u001b[0m \u001b[0;32mas\u001b[0m \u001b[0me\u001b[0m\u001b[0;34m:\u001b[0m\u001b[0;34m\u001b[0m\u001b[0m\n\u001b[1;32m   1363\u001b[0m       \u001b[0mmessage\u001b[0m \u001b[0;34m=\u001b[0m \u001b[0mcompat\u001b[0m\u001b[0;34m.\u001b[0m\u001b[0mas_text\u001b[0m\u001b[0;34m(\u001b[0m\u001b[0me\u001b[0m\u001b[0;34m.\u001b[0m\u001b[0mmessage\u001b[0m\u001b[0;34m)\u001b[0m\u001b[0;34m\u001b[0m\u001b[0m\n",
      "\u001b[0;32m/opt/anaconda/envs/Python3/lib/python3.6/site-packages/tensorflow/python/client/session.py\u001b[0m in \u001b[0;36m_run_fn\u001b[0;34m(session, feed_dict, fetch_list, target_list, options, run_metadata)\u001b[0m\n\u001b[1;32m   1338\u001b[0m         \u001b[0;32melse\u001b[0m\u001b[0;34m:\u001b[0m\u001b[0;34m\u001b[0m\u001b[0m\n\u001b[1;32m   1339\u001b[0m           return tf_session.TF_Run(session, options, feed_dict, fetch_list,\n\u001b[0;32m-> 1340\u001b[0;31m                                    target_list, status, run_metadata)\n\u001b[0m\u001b[1;32m   1341\u001b[0m \u001b[0;34m\u001b[0m\u001b[0m\n\u001b[1;32m   1342\u001b[0m     \u001b[0;32mdef\u001b[0m \u001b[0m_prun_fn\u001b[0m\u001b[0;34m(\u001b[0m\u001b[0msession\u001b[0m\u001b[0;34m,\u001b[0m \u001b[0mhandle\u001b[0m\u001b[0;34m,\u001b[0m \u001b[0mfeed_dict\u001b[0m\u001b[0;34m,\u001b[0m \u001b[0mfetch_list\u001b[0m\u001b[0;34m)\u001b[0m\u001b[0;34m:\u001b[0m\u001b[0;34m\u001b[0m\u001b[0m\n",
      "\u001b[0;31mKeyboardInterrupt\u001b[0m: "
     ]
    }
   ],
   "source": [
    "classifier2 = Sequential()\n",
    "# Adding the input layer and the first hidden layer\n",
    "classifier2.add(Dense(output_dim = 30, init = 'uniform', activation = 'relu', input_dim = 72))\n",
    "# Adding the second hidden layer\n",
    "classifier2.add(Dense(output_dim = 30, init = 'uniform', activation = 'relu'))\n",
    "# Adding the output layer\n",
    "classifier2.add(Dense(output_dim = 1, init = 'uniform', activation = 'relu'))\n",
    "classifier2.compile(optimizer = 'rmsprop', loss = 'mse', metrics = ['accuracy'])\n",
    "classifier2.fit(x_tr2, y_tr2, batch_size = 10, nb_epoch = 100)"
   ]
  },
  {
   "cell_type": "code",
   "execution_count": 10,
   "metadata": {},
   "outputs": [
    {
     "name": "stdout",
     "output_type": "stream",
     "text": [
      "(2430981, 72)\n"
     ]
    },
    {
     "data": {
      "text/plain": [
       "(2430981, 72)"
      ]
     },
     "metadata": {},
     "output_type": "display_data"
    },
    {
     "data": {
      "text/plain": [
       "count    2.430981e+06\n",
       "mean    -2.653033e-16\n",
       "std      1.000000e+00\n",
       "min     -1.305868e+00\n",
       "25%     -7.544557e-01\n",
       "50%     -1.696247e-01\n",
       "75%      3.483686e-01\n",
       "max      3.706970e+00\n",
       "Name: payprice, dtype: float64"
      ]
     },
     "metadata": {},
     "output_type": "display_data"
    }
   ],
   "source": [
    "#MODEL NO. 3:\n",
    "x_tr3 = pd.DataFrame(row_train, columns=['slotprice','weekday', 'hour', 'region', 'useragent', 'slotwidth','slotheight','slotvisibility', 'slotformat'])\n",
    "y_tr3 = row_train.payprice\n",
    "\n",
    "y_mean = np.mean(row_train.payprice)\n",
    "y_std = np.std(row_train.payprice)\n",
    "y_tr3 = (y_tr3 - y_mean)/y_std\n",
    "\n",
    "labelencoder_X_1 = LabelEncoder()\n",
    "x_tr3.useragent = labelencoder_X_1.fit_transform(x_tr3.useragent)\n",
    "labelencoder_X_2 = LabelEncoder()\n",
    "x_tr3.slotvisibility = labelencoder_X_2.fit_transform(x_tr3.slotvisibility)\n",
    "labelencoder_X_3 = LabelEncoder()\n",
    "x_tr3.slotformat = labelencoder_X_3.fit_transform(x_tr3.slotformat)\n",
    "\n",
    "x_tr3 = np.asarray(x_tr3)\n",
    "\n",
    "onehotencoder = OneHotEncoder(categorical_features = [1,2,3])\n",
    "x_tr3 = onehotencoder.fit_transform(x_tr3).toarray()\n",
    "\n",
    "sc = StandardScaler()\n",
    "x_tr3 = sc.fit_transform(x_tr3)\n",
    "x_tr3 = pd.DataFrame(x_tr3)\n",
    "print(x_tr3.shape)\n",
    "display(x_tr3.shape)\n",
    "display(y_tr3.describe())"
   ]
  },
  {
   "cell_type": "code",
   "execution_count": null,
   "metadata": {},
   "outputs": [
    {
     "name": "stderr",
     "output_type": "stream",
     "text": [
      "/opt/anaconda/envs/Python3/lib/python3.6/site-packages/ipykernel/__main__.py:3: UserWarning: Update your `Dense` call to the Keras 2 API: `Dense(activation=\"linear\", input_dim=72, units=30, kernel_initializer=\"normal\")`\n",
      "  app.launch_new_instance()\n",
      "/opt/anaconda/envs/Python3/lib/python3.6/site-packages/ipykernel/__main__.py:5: UserWarning: Update your `Dense` call to the Keras 2 API: `Dense(activation=\"linear\", units=30, kernel_initializer=\"normal\")`\n",
      "/opt/anaconda/envs/Python3/lib/python3.6/site-packages/ipykernel/__main__.py:7: UserWarning: Update your `Dense` call to the Keras 2 API: `Dense(units=1, kernel_initializer=\"normal\")`\n",
      "/opt/anaconda/envs/Python3/lib/python3.6/site-packages/keras/models.py:942: UserWarning: The `nb_epoch` argument in `fit` has been renamed `epochs`.\n",
      "  warnings.warn('The `nb_epoch` argument in `fit` '\n"
     ]
    },
    {
     "name": "stdout",
     "output_type": "stream",
     "text": [
      "Epoch 1/1\n",
      "2044390/2430981 [========================>.....] - ETA: 49s - loss: 0.8978 - acc: 0.0000e+00"
     ]
    }
   ],
   "source": [
    "classifier3 = Sequential()\n",
    "# Adding the input layer and the first hidden layer\n",
    "classifier3.add(Dense(output_dim = 30, init = 'normal', activation = 'linear', input_dim = 72))\n",
    "# Adding the second hidden layer\n",
    "classifier3.add(Dense(output_dim = 30, init = 'normal', activation = 'linear'))\n",
    "# Adding the output layer\n",
    "classifier3.add(Dense(output_dim = 1, init = 'normal'))\n",
    "classifier3.compile(optimizer = 'adam', loss = 'mse', metrics = ['accuracy'])\n",
    "classifier3.fit(x_tr3, y_tr3, batch_size = 10, nb_epoch = 1)"
   ]
  },
  {
   "cell_type": "code",
   "execution_count": 173,
   "metadata": {},
   "outputs": [
    {
     "name": "stdout",
     "output_type": "stream",
     "text": [
      "(91443, 1)\n",
      "(303375, 1)\n",
      "(303925, 1)\n"
     ]
    }
   ],
   "source": [
    "#Model no. 4\n",
    "xg_train = pd.read_csv('sample/dtrain_predprob169.csv')\n",
    "xg_test = pd.read_csv('sample/dtest_predprob169.csv')\n",
    "xg_val = pd.read_csv('sample/dval_predprob169.csv')\n",
    "index = pd.read_csv('index.csv')\n",
    "#lr_val = pd.read_csv('pred_lr_val.csv')\n",
    "#lr_test = pd.read_csv('pred_lr_test.csv')\n",
    "#print(lr_train.head())\n",
    "#print(lr_val.head())\n",
    "#print(lr_test.head())\n",
    "#print(lr_train)\n",
    "print(xg_train.shape)\n",
    "print(xg_test.shape)\n",
    "print(xg_val.shape)\n"
   ]
  },
  {
   "cell_type": "code",
   "execution_count": 174,
   "metadata": {},
   "outputs": [
    {
     "name": "stdout",
     "output_type": "stream",
     "text": [
      "(91443, 1)\n"
     ]
    },
    {
     "data": {
      "text/plain": [
       "(91443, 1)"
      ]
     },
     "metadata": {},
     "output_type": "display_data"
    },
    {
     "name": "stdout",
     "output_type": "stream",
     "text": [
      "224827      76\n",
      "2238536     88\n",
      "1395970    200\n",
      "1330632    225\n",
      "397740     151\n",
      "Name: payprice, dtype: int64\n",
      "224827      76\n",
      "2238536     88\n",
      "1395970    200\n",
      "1330632    225\n",
      "397740     151\n",
      "Name: payprice, dtype: int64\n",
      "(91443, 1)\n"
     ]
    }
   ],
   "source": [
    "x_tr4 = pd.DataFrame(xg_train)\n",
    "print(x_tr4.shape)\n",
    "x_test4 = pd.DataFrame(xg_test)\n",
    "x_val4 = pd.DataFrame(xg_val)\n",
    "clicks = len(row_train[row_train.click==1])\n",
    "impression = len(row_train[row_train.bidprice>row_train.payprice])\n",
    "aCTR=clicks/impression\n",
    "x_tr4 = x_tr4/aCTR\n",
    "x_test4 = x_test4/aCTR\n",
    "x_val4 = x_val4/aCTR\n",
    "\n",
    "index = index['0']\n",
    "#index = list(index)\n",
    "y_tr4 = row_train.payprice[index]\n",
    "#y_mean = np.mean(row_train.payprice)\n",
    "#y_std = np.std(row_train.payprice)\n",
    "#y_tr4 = (y_tr4 - y_mean)/y_std\n",
    "\n",
    "y_val4 = row_val.payprice\n",
    "display(x_tr4.shape)\n",
    "print(y_tr4.head())\n",
    "print(y_tr4.head())\n",
    "print(x_tr4.shape)"
   ]
  },
  {
   "cell_type": "code",
   "execution_count": 181,
   "metadata": {
    "scrolled": false
   },
   "outputs": [
    {
     "name": "stderr",
     "output_type": "stream",
     "text": [
      "/opt/anaconda/envs/Python3/lib/python3.6/site-packages/ipykernel/__main__.py:3: UserWarning: Update your `Dense` call to the Keras 2 API: `Dense(activation=\"relu\", input_dim=1, units=100, kernel_initializer=\"normal\")`\n",
      "  app.launch_new_instance()\n",
      "/opt/anaconda/envs/Python3/lib/python3.6/site-packages/ipykernel/__main__.py:5: UserWarning: Update your `Dense` call to the Keras 2 API: `Dense(activation=\"relu\", units=100, kernel_initializer=\"normal\")`\n",
      "/opt/anaconda/envs/Python3/lib/python3.6/site-packages/ipykernel/__main__.py:7: UserWarning: Update your `Dense` call to the Keras 2 API: `Dense(units=1, kernel_initializer=\"normal\")`\n",
      "/opt/anaconda/envs/Python3/lib/python3.6/site-packages/keras/models.py:942: UserWarning: The `nb_epoch` argument in `fit` has been renamed `epochs`.\n",
      "  warnings.warn('The `nb_epoch` argument in `fit` '\n"
     ]
    },
    {
     "name": "stdout",
     "output_type": "stream",
     "text": [
      "Epoch 1/5\n",
      "91443/91443 [==============================] - 4676s 51ms/step - loss: 44.5110 - acc: 0.0088\n",
      "Epoch 2/5\n",
      "91443/91443 [==============================] - 5052s 55ms/step - loss: 43.6282 - acc: 0.0099\n",
      "Epoch 3/5\n",
      "91443/91443 [==============================] - 5559s 61ms/step - loss: 43.5302 - acc: 0.0119\n",
      "Epoch 4/5\n",
      "91443/91443 [==============================] - 5583s 61ms/step - loss: 43.5277 - acc: 0.0110\n",
      "Epoch 5/5\n",
      "91443/91443 [==============================] - 5440s 59ms/step - loss: 43.5353 - acc: 0.0124\n"
     ]
    }
   ],
   "source": [
    "model = Sequential()\n",
    "# Adding the input layer and the first hidden layer\n",
    "model.add(Dense(output_dim = 100, init = 'normal', activation ='relu',input_dim = 1))\n",
    "# Adding the second hidden layer\n",
    "model.add(Dense(output_dim = 100, activation ='relu',init = 'normal'))\n",
    "# Adding the output layer\n",
    "model.add(Dense(output_dim = 1,init = 'normal'))\n",
    "model.compile(optimizer = 'adam', loss = 'mean_absolute_error', metrics = ['accuracy'])\n",
    "history = model.fit(x_tr4, y_tr4, batch_size = 1, nb_epoch = 5)"
   ]
  },
  {
   "cell_type": "code",
   "execution_count": 182,
   "metadata": {},
   "outputs": [
    {
     "name": "stdout",
     "output_type": "stream",
     "text": [
      "Train MAE:  0.0297 , Train Loss:  44.148\n",
      "Val MAE:  0.0323 , Val Loss:  43.9182\n"
     ]
    }
   ],
   "source": [
    "train_score = classifier4.evaluate(x_tr4, y_tr4, verbose=0)\n",
    "valid_score = classifier4.evaluate(x_val4, y_val4, verbose=0)\n",
    "\n",
    "print('Train MAE: ', round(train_score[1], 4), ', Train Loss: ', round(train_score[0], 4)) \n",
    "print('Val MAE: ', round(valid_score[1], 4), ', Val Loss: ', round(valid_score[0], 4))"
   ]
  },
  {
   "cell_type": "code",
   "execution_count": 188,
   "metadata": {},
   "outputs": [
    {
     "data": {
      "text/plain": [
       "array([[70.53222 ],\n",
       "       [69.608536],\n",
       "       [70.071785],\n",
       "       ...,\n",
       "       [69.91867 ],\n",
       "       [70.11092 ],\n",
       "       [92.06777 ]], dtype=float32)"
      ]
     },
     "metadata": {},
     "output_type": "display_data"
    },
    {
     "data": {
      "text/html": [
       "<div>\n",
       "<style scoped>\n",
       "    .dataframe tbody tr th:only-of-type {\n",
       "        vertical-align: middle;\n",
       "    }\n",
       "\n",
       "    .dataframe tbody tr th {\n",
       "        vertical-align: top;\n",
       "    }\n",
       "\n",
       "    .dataframe thead th {\n",
       "        text-align: right;\n",
       "    }\n",
       "</style>\n",
       "<table border=\"1\" class=\"dataframe\">\n",
       "  <thead>\n",
       "    <tr style=\"text-align: right;\">\n",
       "      <th></th>\n",
       "      <th>pCTR</th>\n",
       "    </tr>\n",
       "  </thead>\n",
       "  <tbody>\n",
       "    <tr>\n",
       "      <th>0</th>\n",
       "      <td>5.851756</td>\n",
       "    </tr>\n",
       "    <tr>\n",
       "      <th>1</th>\n",
       "      <td>13.762963</td>\n",
       "    </tr>\n",
       "    <tr>\n",
       "      <th>2</th>\n",
       "      <td>9.773087</td>\n",
       "    </tr>\n",
       "    <tr>\n",
       "      <th>3</th>\n",
       "      <td>347.844727</td>\n",
       "    </tr>\n",
       "    <tr>\n",
       "      <th>4</th>\n",
       "      <td>9.564919</td>\n",
       "    </tr>\n",
       "    <tr>\n",
       "      <th>5</th>\n",
       "      <td>5.394247</td>\n",
       "    </tr>\n",
       "    <tr>\n",
       "      <th>6</th>\n",
       "      <td>8.520240</td>\n",
       "    </tr>\n",
       "    <tr>\n",
       "      <th>7</th>\n",
       "      <td>5.972116</td>\n",
       "    </tr>\n",
       "    <tr>\n",
       "      <th>8</th>\n",
       "      <td>6.975187</td>\n",
       "    </tr>\n",
       "    <tr>\n",
       "      <th>9</th>\n",
       "      <td>16.503791</td>\n",
       "    </tr>\n",
       "  </tbody>\n",
       "</table>\n",
       "</div>"
      ],
      "text/plain": [
       "         pCTR\n",
       "0    5.851756\n",
       "1   13.762963\n",
       "2    9.773087\n",
       "3  347.844727\n",
       "4    9.564919\n",
       "5    5.394247\n",
       "6    8.520240\n",
       "7    5.972116\n",
       "8    6.975187\n",
       "9   16.503791"
      ]
     },
     "metadata": {},
     "output_type": "display_data"
    },
    {
     "data": {
      "text/plain": [
       "224827      76\n",
       "2238536     88\n",
       "1395970    200\n",
       "1330632    225\n",
       "397740     151\n",
       "45265      104\n",
       "1065063    193\n",
       "2307453     70\n",
       "389379      67\n",
       "1011890    105\n",
       "Name: payprice, dtype: int64"
      ]
     },
     "metadata": {},
     "output_type": "display_data"
    }
   ],
   "source": [
    "y_pred_test2 = classifier4.predict(x_test4)\n",
    "y_pred_tr2 = classifier4.predict(x_tr4)\n",
    "y_pred_val2 = classifier4.predict(x_val4)\n",
    "display(y_pred_tr2)\n",
    "display(x_tr4.head(10))\n",
    "display(y_tr4.head(10))"
   ]
  },
  {
   "cell_type": "code",
   "execution_count": 189,
   "metadata": {},
   "outputs": [
    {
     "name": "stdout",
     "output_type": "stream",
     "text": [
      "                0\n",
      "0       70.532219\n",
      "1       69.608536\n",
      "2       70.071785\n",
      "3      104.371895\n",
      "4       70.096230\n",
      "5       70.585930\n",
      "6       70.218887\n",
      "7       70.518082\n",
      "8       70.400307\n",
      "9       69.290733\n",
      "10      69.947594\n",
      "11      69.228302\n",
      "12      69.336014\n",
      "13      69.535286\n",
      "14      70.169167\n",
      "15      69.471603\n",
      "16      69.990196\n",
      "17      68.579163\n",
      "18      66.309204\n",
      "19      69.045982\n",
      "20      69.173302\n",
      "21      70.616096\n",
      "22      69.812454\n",
      "23      69.161934\n",
      "24      70.406639\n",
      "25      69.222191\n",
      "26      70.170006\n",
      "27      70.311287\n",
      "28      70.760475\n",
      "29      70.717010\n",
      "...           ...\n",
      "91413   68.565704\n",
      "91414  102.084183\n",
      "91415  255.301498\n",
      "91416  229.546783\n",
      "91417   70.071510\n",
      "91418  225.177826\n",
      "91419  127.441856\n",
      "91420   65.075211\n",
      "91421   67.814766\n",
      "91422  239.672272\n",
      "91423  238.596191\n",
      "91424   69.405060\n",
      "91425  244.234619\n",
      "91426  234.661316\n",
      "91427   69.005707\n",
      "91428  213.468964\n",
      "91429  182.338470\n",
      "91430  238.888916\n",
      "91431   69.192116\n",
      "91432  149.061371\n",
      "91433  145.759491\n",
      "91434   69.102386\n",
      "91435   64.215645\n",
      "91436   63.562408\n",
      "91437  203.672180\n",
      "91438  255.313416\n",
      "91439   66.621567\n",
      "91440   69.918671\n",
      "91441   70.110924\n",
      "91442   92.067772\n",
      "\n",
      "[91443 rows x 1 columns]\n"
     ]
    }
   ],
   "source": [
    "#y_pred_val2 = (y_pred_val2*y_std) + y_mean\n",
    "#y_pred_tr2 = (y_pred_tr2*y_std) + y_mean\n",
    "#y_pred_test2 = (y_pred_test2*y_std) + y_mean\n",
    "\n",
    "y_pred_val2 = pd.DataFrame(y_pred_val2)\n",
    "y_pred_tr2 = pd.DataFrame(y_pred_tr2)\n",
    "y_pred_test2 = pd.DataFrame(y_pred_test2)\n",
    "y_pred_test2.to_csv('pred_bidprice1.csv')\n",
    "print(y_pred_tr2)"
   ]
  },
  {
   "cell_type": "code",
   "execution_count": 190,
   "metadata": {},
   "outputs": [],
   "source": [
    "y_pred_val2.to_csv('val_bidprice1.csv')\n",
    "y_pred_tr2.to_csv('train_bidprice1.csv')\n"
   ]
  },
  {
   "cell_type": "code",
   "execution_count": 200,
   "metadata": {},
   "outputs": [
    {
     "name": "stdout",
     "output_type": "stream",
     "text": [
      "budget 0\n",
      "impression 164446\n",
      "111\n"
     ]
    }
   ],
   "source": [
    "\n",
    "def evalu(pred, data):\n",
    "    budget=6250000\n",
    "    impression=0\n",
    "    click=0\n",
    "    \n",
    "    for row in range(0,data.shape[0]):\n",
    "        if budget<data.payprice[row]:\n",
    "            continue\n",
    "        if pred.iloc[row,0]>data.payprice[row]:\n",
    "            budget=budget-data.payprice[row]\n",
    "            impression=impression+1\n",
    "            if data.click[row]==1:\n",
    "                click=click+1\n",
    "    print('budget',budget)\n",
    "    print('impression',impression )\n",
    "    return click\n",
    "\n",
    "a = evalu(y_pred_val2+1, row_val)\n",
    "print(a)\n",
    "#+1, 111\n",
    "#+2, 106\n",
    "#+0, 109"
   ]
  },
  {
   "cell_type": "code",
   "execution_count": 199,
   "metadata": {},
   "outputs": [
    {
     "data": {
      "image/png": "[encoded data removed]",
      "text/plain": [
       "<matplotlib.figure.Figure at 0x7f76461d62e8>"
      ]
     },
     "metadata": {},
     "output_type": "display_data"
    }
   ],
   "source": [
    "plt.plot(history.history['loss'])\n",
    "#plt.plot(history.history['val_loss'])\n",
    "plt.title('model loss')\n",
    "plt.ylabel('loss')\n",
    "plt.xlabel('epoch')\n",
    "#plt.legend(['train', 'test'], loc='upper left')\n",
    "plt.show()"
   ]
  },
  {
   "cell_type": "code",
   "execution_count": null,
   "metadata": {},
   "outputs": [],
   "source": [
    "\"\"\"\"mask = row_train['click']==1\n",
    "x_tr_click = x_tr[mask]\n",
    "y_tr_click = y_tr[mask]\n",
    "x_tr_click.reset_index(drop=True)\n",
    "y_tr_click.reset_index(drop=True)\n",
    "bidprice_real = pd.DataFrame(row_train[row_train['click']==1], columns = ['bidprice'])\n",
    "bidprice_real.reset_index(drop=True)\n",
    "\n",
    "print(x_tr_click.shape)\n",
    "print(y_tr_click.shape)"
   ]
  },
  {
   "cell_type": "code",
   "execution_count": null,
   "metadata": {},
   "outputs": [],
   "source": []
  },
  {
   "cell_type": "code",
   "execution_count": null,
   "metadata": {},
   "outputs": [],
   "source": [
    "\"\"\"\"\"\"\"\"\"\"\n",
    "num_episodes=len(y_tr_click)\n",
    "y = 0.95\n",
    "eps = 0.5\n",
    "decay_factor = 0.999\n",
    "r_avg_list = []\n",
    "budget=6250000\n",
    "impression=0\n",
    "click=0\n",
    "\n",
    "for i in range(num_episodes):\n",
    "    #s = env.reset()\n",
    "    eps *= decay_factor\n",
    "    if i % 100 == 0:\n",
    "        print(\"Episode {} of {}\".format(i + 1, num_episodes))\n",
    "    done = False\n",
    "    r_sum = 0\n",
    "    while not done:\n",
    "        bidprice_est = classifier.predict(x_tr_click[i])\n",
    "        if bidprice_est > bidprice_real[i]:\n",
    "            a =\n",
    "            done = True\n",
    "        else:\n",
    "            \n",
    "        new_s, r, done, _ = env.step(a)\n",
    "        target = r + y * np.max(model.predict(x_tr_click[i]))\n",
    "        target_vec = model.predict(np.identity(5)[s:s + 1])[0]\n",
    "        target_vec[a] = target\n",
    "        model.fit(np.identity(5)[s:s + 1], target_vec.reshape(-1, 2), epochs=1, verbose=0)\n",
    "        s = new_s\n",
    "        r_sum += r\n",
    "    r_avg_list.append(r_sum / 1000)"
   ]
  },
  {
   "cell_type": "code",
   "execution_count": null,
   "metadata": {},
   "outputs": [],
   "source": [
    "\n",
    "\"\"\"\"\"\"\"\"\"\n",
    "def evaluate(bidprice):\n",
    "    impression=0\n",
    "    click=0\n",
    "    for row in range(0,validation.shape[0]):\n",
    "        if budget<validation.payprice[row]:\n",
    "            continue\n",
    "        if bidprice.iloc[row,0]>validation.payprice[row]:\n",
    "            budget=budget-validation.payprice[row]\n",
    "            impression=impression+1\n",
    "            if validation.click[row]==1:\n",
    "                click=click+1\n",
    "    return click"
   ]
  }
 ],
 "metadata": {
  "kernelspec": {
   "display_name": "Python [conda env:Python3]",
   "language": "python",
   "name": "conda-env-Python3-py"
  },
  "language_info": {
   "codemirror_mode": {
    "name": "ipython",
    "version": 3
   },
   "file_extension": ".py",
   "mimetype": "text/x-python",
   "name": "python",
   "nbconvert_exporter": "python",
   "pygments_lexer": "ipython3",
   "version": "3.6.4"
  }
 },
 "nbformat": 4,
 "nbformat_minor": 2
}
